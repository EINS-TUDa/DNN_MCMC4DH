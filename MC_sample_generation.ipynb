{
 "cells": [
  {
   "cell_type": "markdown",
   "source": [
    "# MC_sample_geneartion:\n",
    "\n",
    "This skript draws random demand samples and solves the state equations. The results are saved to be used in\n",
    "the MC-SIR algorithm and to train the DNN.\n",
    "\n",
    "If the folder '/data_files/results_***testcase*** does not yet exist for the ***testcase*** of interest pls add this first."
   ],
   "metadata": {
    "collapsed": false
   }
  },
  {
   "cell_type": "markdown",
   "source": [
    "### Imports:"
   ],
   "metadata": {
    "collapsed": false,
    "pycharm": {
     "name": "#%% md\n"
    }
   }
  },
  {
   "cell_type": "code",
   "execution_count": 6,
   "outputs": [],
   "source": [
    "import tensorflow as tf\n",
    "import sys\n",
    "from libdnnmcmc.utility import load_scenario\n",
    "from libdnnmcmc.steady_state_solvers import SE_solver"
   ],
   "metadata": {
    "collapsed": false,
    "pycharm": {
     "name": "#%%\n"
    }
   }
  },
  {
   "cell_type": "markdown",
   "source": [
    "## Settings:\n",
    "- testcase: testcase for which samples are to be generated\n",
    "- n_samples: number of samples\n",
    "- precision: the samples are solved up to $\\Psi \\leq precision$\n",
    "- name_ext: the save file's name is extended by name_ext; <br>\n",
    "name_ext is expected to be \\[1, 2, 3, ...\\] if not all MC samples are saved in one file"
   ],
   "metadata": {
    "collapsed": false
   }
  },
  {
   "cell_type": "code",
   "execution_count": 8,
   "outputs": [],
   "source": [
    "testcase = 'loop'\n",
    "n_samples = 30\n",
    "precision = 1.e-5\n",
    "file_ext = 'test'       # file_ext = sys.argv[1]"
   ],
   "metadata": {
    "collapsed": false,
    "pycharm": {
     "name": "#%%\n"
    }
   }
  },
  {
   "cell_type": "code",
   "execution_count": null,
   "outputs": [],
   "source": [
    "# load testcae:\n",
    "\n",
    "SE, VM, d_prior_dist, data_file = load_scenario(testcase)\n",
    "cycles = VM.cycles\n",
    "_solve_SE = SE_solver(nr_prec=precision)"
   ],
   "metadata": {
    "collapsed": false,
    "pycharm": {
     "name": "#%%\n"
    }
   }
  },
  {
   "cell_type": "markdown",
   "source": [
    "In the following we define a small wrapper around the solver-instance (*\\_solve\\_SE*) to handle the data assignments.\n",
    "SEt verbose = True to print information regarding the solver's internal state."
   ],
   "metadata": {
    "collapsed": false,
    "pycharm": {
     "name": "#%% md\n"
    }
   }
  },
  {
   "cell_type": "code",
   "execution_count": 9,
   "outputs": [],
   "source": [
    "def solve_SE(demand, verbose=False):\n",
    "    SE.load_save_state()\n",
    "    for dem in SE.demands.keys():\n",
    "        ind = SE.dem_ind[dem]\n",
    "        d = demand[ind]\n",
    "        SE.Q_heat[ind].assign(d)\n",
    "    _solve_SE(SE, cycles, verbose=verbose)\n",
    "    return tf.concat([SE.T, SE.mf, SE.p, SE.T_end], axis=0)"
   ],
   "metadata": {
    "collapsed": false,
    "pycharm": {
     "name": "#%%\n"
    }
   }
  },
  {
   "cell_type": "markdown",
   "source": [
    "Sample demands and save corresponding grid states:"
   ],
   "metadata": {
    "collapsed": false,
    "pycharm": {
     "name": "#%% md\n"
    }
   }
  },
  {
   "cell_type": "code",
   "execution_count": 11,
   "outputs": [
    {
     "name": "stdout",
     "output_type": "stream",
     "text": [
      "calculate sample 0\n",
      "calculate sample 10\n",
      "calculate sample 20\n"
     ]
    }
   ],
   "source": [
    "demands = d_prior_dist.sample(n_samples)\n",
    "for i, demand in enumerate(demands):\n",
    "    if i % 10 == 0:\n",
    "        print(f'calculate sample {i}')\n",
    "    state = solve_SE(demand)\n",
    "    tf.print(demand, tf.transpose(state), summarize=-1, output_stream='file://' + f'{data_file}{file_ext}.csv')"
   ],
   "metadata": {
    "collapsed": false,
    "pycharm": {
     "name": "#%%\n"
    }
   }
  }
 ],
 "metadata": {
  "kernelspec": {
   "display_name": "Python 3",
   "language": "python",
   "name": "python3"
  },
  "language_info": {
   "codemirror_mode": {
    "name": "ipython",
    "version": 2
   },
   "file_extension": ".py",
   "mimetype": "text/x-python",
   "name": "python",
   "nbconvert_exporter": "python",
   "pygments_lexer": "ipython2",
   "version": "2.7.6"
  }
 },
 "nbformat": 4,
 "nbformat_minor": 0
}